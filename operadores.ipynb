{
 "cells": [
  {
   "cell_type": "markdown",
   "metadata": {},
   "source": [
    "# Operadores aritméticos\n",
    "\n",
    "## Números\n",
    "Cada lenguaje de programación, posee sus propias estructuras para definir números, pueden ser __doubles__, __float__, __integer__, __long__, __ulong__, __byte__, __uint__ etc.. pero en Python sólo tenemos dos: __int__ y __float__"
   ]
  },
  {
   "cell_type": "code",
   "execution_count": 1,
   "metadata": {},
   "outputs": [
    {
     "name": "stdout",
     "output_type": "stream",
     "text": [
      "123\n",
      "9.3451\n"
     ]
    }
   ],
   "source": [
    "entero = 123\t\t# Esto es un número entero\n",
    "flotante = 9.3451\t# Esto es un número flotante\n",
    "\n",
    "print(entero)\n",
    "print(flotante)"
   ]
  },
  {
   "cell_type": "markdown",
   "metadata": {},
   "source": [
    "Un número entero, se lo puede convertir a flotante mediante la funcion _float()_ pasándole el número a convertir:"
   ]
  },
  {
   "cell_type": "code",
   "execution_count": 2,
   "metadata": {},
   "outputs": [
    {
     "name": "stdout",
     "output_type": "stream",
     "text": [
      "123.0\n"
     ]
    }
   ],
   "source": [
    "print(float(entero))"
   ]
  },
  {
   "cell_type": "markdown",
   "metadata": {},
   "source": [
    "Como se aprecia, en primera instancia la variable _entero_ tiene asignado el entero 123, pero al convertirla en _float_ se le agrega el cero en el primer decimal, aunque esto tecnicamente no es un valor decimal, sino que a vista nuestra sigue siguendo 123, intermante ha cambiado la estructura que representa éste número.\n",
    "\n",
    "De igual manera podemos hacer para convertir de decimal (_float_) a entero (_int_) y algo curioso va a pasar, y es que se elimina completamente la mantiza y solo nos deja la parte entera sin redondear el valor"
   ]
  },
  {
   "cell_type": "code",
   "execution_count": 3,
   "metadata": {},
   "outputs": [
    {
     "name": "stdout",
     "output_type": "stream",
     "text": [
      "9\n"
     ]
    }
   ],
   "source": [
    "print(int(flotante))"
   ]
  },
  {
   "cell_type": "markdown",
   "metadata": {},
   "source": [
    "Para redondear un valor, podemos usar la funcion _ceil()_ y _floor()_ del módulo __math__, dependiendo si nos interesa redondear hacia arriba o hacia abajo"
   ]
  },
  {
   "cell_type": "code",
   "execution_count": 11,
   "metadata": {},
   "outputs": [
    {
     "name": "stdout",
     "output_type": "stream",
     "text": [
      "Redondeando hacia arriba\n",
      "------------------------------\n",
      "math.ceil(-23.11):  -23\n",
      "math.ceil(300.11):  301\n",
      "math.ceil(1.9999):  2\n",
      "\n",
      "Redondeando hacia abajo\n",
      "------------------------------\n",
      "math.floor(-23.11):  -24\n",
      "math.floor(300.11):  300\n",
      "math.floor(1.0001):  1\n"
     ]
    }
   ],
   "source": [
    "import math\n",
    "\n",
    "# ceil() redondeará hacia arriba\n",
    "print('Redondeando hacia arriba')\n",
    "print('-' * 30)\n",
    "print('math.ceil(-23.11): ', math.ceil(-23.11))\n",
    "print('math.ceil(300.11): ', math.ceil(300.11))\n",
    "print('math.ceil(1.9999): ', math.ceil(1.9999))\n",
    "\n",
    "# floor() redondeará hacia abajo\n",
    "print('\\nRedondeando hacia abajo')\n",
    "print('-' * 30)\n",
    "print('math.floor(-23.11): ', math.floor(-23.11))\n",
    "print('math.floor(300.11): ', math.floor(300.11))\n",
    "print('math.floor(1.0001): ', math.floor(1.0001))\n"
   ]
  },
  {
   "cell_type": "markdown",
   "metadata": {},
   "source": [
    "## Jerarquía de operaciones\n",
    "Los operadores aritméticos, son símbolos que representan cálculos, como la suma, la resta, multiplicación, etc.. a los valores a los que se les aplica estos operadores, se llaman operandos"
   ]
  },
  {
   "cell_type": "code",
   "execution_count": 16,
   "metadata": {},
   "outputs": [
    {
     "name": "stdout",
     "output_type": "stream",
     "text": [
      "Suma:\n",
      "resultado = a + b\n",
      "Ej. 12 + 5 = 17\n",
      "--------------------\n",
      "Resta:\n",
      "Resultado = a - b\n",
      "Ej. 12 - 5 = 7\n",
      "--------------------\n",
      "Multiplicación:\n",
      "Resultado = a * b\n",
      "Ej. 12 * 5 = 60\n",
      "--------------------\n",
      "División:\n",
      "Resultado = a / b\n",
      "Ej. 12 / 5 = 2.4\n",
      "--------------------\n",
      "Módulo:\n",
      "Resultado = a % b\n",
      "Ej. 12 % 5 = 2\n",
      "--------------------\n",
      "Exponenciación:\n",
      "Resultado = a ** b\n",
      "Ej. 12 ^ 5 = 248832\n",
      "--------------------\n",
      "División entera:\n",
      "Resultado = a // b\n",
      "Ej. 12 // 5 = 2\n"
     ]
    }
   ],
   "source": [
    "a = 12\n",
    "b = 5\n",
    "\n",
    "print(\"Suma:\\nresultado = a + b\")\n",
    "print(\"Ej. 12 + 5 =\", a + b)\n",
    "print(\"-\" * 20)\n",
    "print(\"Resta:\\nResultado = a - b\")\n",
    "print(\"Ej. 12 - 5 =\", a - b)\n",
    "print(\"-\" * 20)\n",
    "print(\"Multiplicación:\\nResultado = a * b\")\n",
    "print(\"Ej. 12 * 5 =\", a * b)\n",
    "print(\"-\" * 20)\n",
    "print(\"División:\\nResultado = a / b\")\n",
    "print(\"Ej. 12 / 5 =\", a / b)\n",
    "print(\"-\" * 20)\n",
    "print(\"Módulo:\\nResultado = a % b\")\n",
    "print(\"Ej. 12 % 5 =\", a % b)\n",
    "print(\"-\" * 20)\n",
    "print(\"Exponenciación:\\nResultado = a ** b\")\n",
    "print(\"Ej. 12 ^ 5 =\", a ** b)\n",
    "print(\"-\" * 20)\n",
    "print(\"División entera:\\nResultado = a // b\")\n",
    "print(\"Ej. 12 // 5 =\", a // b)"
   ]
  },
  {
   "cell_type": "markdown",
   "metadata": {},
   "source": [
    "## Jerarquía\n",
    "Cuando se presentan varias operaciones aritméticas juntas, se debe respetar un orden para obtener un resultado real, por ende, en los lenguajes de programación se respeta los mismos conceptos que en matemáticas (normalmente). Python va a respetar de la siguiente manera:\n",
    "\n",
    "1. Paréntesis\n",
    "2. Exponenciación\n",
    "3. Multiplicacion y división\n",
    "4. Sumas y restas (de izquierda a derecha)\n",
    "\n",
    "Si quisieramos hacer la siguiente operación: $12 * 3 + 8 / 3 - (1/2 * 3.14)$ se resolvería de la siguiente manera:\n",
    "\n"
   ]
  },
  {
   "cell_type": "markdown",
   "metadata": {},
   "source": [
    "\\begin{equation*}\n",
    "\\begin{split}\n",
    "x & = 12 * 3 + 8 / 3 - (1/2 * 3.14) \\\\\n",
    "x & = 12 * 3 + 8 / 3 - 1.57\\\\\n",
    "x & = 36 + 2.6666 - 1.57\\\\\n",
    "x & = 37.096\n",
    "\\end{split}\n",
    "\\end{equation*}"
   ]
  },
  {
   "cell_type": "code",
   "execution_count": 18,
   "metadata": {},
   "outputs": [
    {
     "name": "stdout",
     "output_type": "stream",
     "text": [
      "37.0967\n"
     ]
    }
   ],
   "source": [
    "print(round((12 * 3 + 8 / 3 - (1/2 * 3.14)), 4))"
   ]
  },
  {
   "cell_type": "markdown",
   "metadata": {},
   "source": [
    "### Calcular el IMC\n",
    "Segun la [wikipedia](https://es.wikipedia.org/wiki/%C3%8Dndice_de_masa_corporal):<br>El índice de masa corporal es una razón matemática que asocia la masa y la talla de un individuo, ideada por el estadista belga Adolphe Quetelet, por lo que también se conoce como índice de Quetelet.\n",
    "#### Cálculo del índice de masa corporal\n",
    "Se calcula según la operación\n",
    "$$IMG = \\frac{masa}{altura}$$\n",
    "donde la masa se expresa en kilogramos y el cuadrado de la estatura en metros al cuadrado, siendo la unidad de medida del IMC en el sistema MKS o en el Sistema Internacional de Unidades:\n",
    "$$kg * m^{-2} = \\frac{kg}{m^2}"
   ]
  },
  {
   "cell_type": "code",
   "execution_count": 29,
   "metadata": {},
   "outputs": [
    {
     "name": "stdout",
     "output_type": "stream",
     "text": [
      "Tu IMC es de: 22.31\n"
     ]
    }
   ],
   "source": [
    "# Indice de masa corporal (IMC)\n",
    "kg = input('Ingresa tu peso en kg: ')\n",
    "altura = input('Ingresa tu altura en cm: ')\n",
    "\n",
    "imc = float(kg) / ((float(altura) / 100) ** 2)\n",
    "print(\"Tu IMC es de:\", round(imc, 2))"
   ]
  }
 ],
 "metadata": {
  "kernelspec": {
   "display_name": "Python 3.10.5 64-bit",
   "language": "python",
   "name": "python3"
  },
  "language_info": {
   "codemirror_mode": {
    "name": "ipython",
    "version": 3
   },
   "file_extension": ".py",
   "mimetype": "text/x-python",
   "name": "python",
   "nbconvert_exporter": "python",
   "pygments_lexer": "ipython3",
   "version": "3.10.5"
  },
  "orig_nbformat": 4,
  "vscode": {
   "interpreter": {
    "hash": "04c99251120b9783bb57db04925b02d6d9a65330f6ca271b364357389b908c1b"
   }
  }
 },
 "nbformat": 4,
 "nbformat_minor": 2
}
