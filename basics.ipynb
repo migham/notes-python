{
 "cells": [
  {
   "cell_type": "markdown",
   "metadata": {},
   "source": [
    "# Primeros pasos\n",
    "Python es un lenguaje interpretado, eso quiere decir que por detrás habrá un motor interpretando el codigo para convertirlo en lenguaje máquina y posteriormente enviarlo al procesador"
   ]
  },
  {
   "cell_type": "markdown",
   "metadata": {},
   "source": [
    "## Hola mundo\n",
    "\n",
    "En [https://guiadev.com/](https://guiadev.com/hola-mundo/#:~:text=Sin%20embargo%2C%20la%20historia%20o%20el%20porque%20del,primera%20vez%20el%20ejemplo%20del%20famoso%20%E2%80%9CHello%20World%E2%80%9D.) nos cuenta lo siguiente:\n",
    "\n",
    "> Para todas aquellas personas que ingresan al mundo de la programación o bien tienen un primer contacto con ella, nuestro primer gran logro es imprimir un «Hola Mundo!» o «Hello World!» en nuestra pantalla.<br><br>\n",
    "Esto se puede definir como el primer programa de todo desarrollador e incluso seguimos utilizándolo como la prueba inicial de todo nuevo proyecto.<br><br>\n",
    "Sin embargo, la historia o el porque del origen del famoso «Hola Mundo» es algo incierto, podemos afirmar que su primer invocación se remonta a la década de los 70 donde Brian Kernighan, autor de uno de los libros de programación más famosos de la historia: C Progamming Language (1978) y previamente, en 1973 un libro llamado A Tutorial Introduction to the Programming Language B, introdujo por primera vez el ejemplo del famoso “Hello World”.\n",
    "\n"
   ]
  },
  {
   "cell_type": "code",
   "execution_count": 2,
   "metadata": {},
   "outputs": [
    {
     "name": "stdout",
     "output_type": "stream",
     "text": [
      "Hola mundo!\n"
     ]
    }
   ],
   "source": [
    "print(\"Hola mundo!\")"
   ]
  },
  {
   "cell_type": "markdown",
   "metadata": {},
   "source": [
    "`print()` es una palabra reservada del propio Python, por lo que no podremos usarla para otro fin. Es una función que nos mostrará en la consola lo que insertemos dentro, en caso de un mensaje escrito por nosotros mismos, deberá estar entre comillas."
   ]
  },
  {
   "cell_type": "markdown",
   "metadata": {},
   "source": [
    "---\n",
    "## Variables y tipos de datos\n",
    "Cuando hablamos de un lenguaje de programación, un __dato__ es una de las cosas básicas que usa un programa, podria decirse que es la unidad mínima en cualquier programa. Podria ser representado por una letra, un numero, un estado, etc.\n",
    "\n",
    "Una de las características mas potentes de cualquier lenguaje de programación, es la manipulación de variables. Una variable es un nombre arbitrario que referencia a un dato. Tendrá un espacio en memoria para poder almacenar el dato asignado. Una variable, como lo indica su nombre, puede variar a lo largo de la vida del programa.\n",
    "\n",
    "En Python, como en otros lenguajes, existen reglas a la hora de crear variables tales como:\n",
    "- No pueden empezar por un dígito\n",
    "- No pueden usar caracteres especiales, excepto _\n",
    "- No pueden usar la Ñ\n",
    "- No pueden llevar el nombre de las palabras reservadas del lenguaje\n",
    "\n",
    "Para ver las palabras reservadas de Python, podemos ingresar a la consola e imprimir la lista de la siguiente manera:\n"
   ]
  },
  {
   "cell_type": "code",
   "execution_count": 3,
   "metadata": {},
   "outputs": [
    {
     "name": "stdout",
     "output_type": "stream",
     "text": [
      "['False', 'None', 'True', 'and', 'as', 'assert', 'async', 'await', 'break', 'class', 'continue', 'def', 'del', 'elif', 'else', 'except', 'finally', 'for', 'from', 'global', 'if', 'import', 'in', 'is', 'lambda', 'nonlocal', 'not', 'or', 'pass', 'raise', 'return', 'try', 'while', 'with', 'yield']\n"
     ]
    }
   ],
   "source": [
    "import keyword\n",
    "print(keyword.kwlist)"
   ]
  },
  {
   "cell_type": "markdown",
   "metadata": {},
   "source": [
    "### Tipos de datos\n",
    "Cuando hablamos de un lenguaje de programación, hablabamos que los datos son el tipo de información minima de todo programa y cuando hablamos de tipos de datos, tenemos 3:\n",
    "- Enteros (int)\n",
    "- Números decimales (float)\n",
    "- Cadenas de texto (str)\n",
    "Un entero es cualquier número (como su palabra lo indica) entero, tales como 3, 4, 6, 1, etc.. En el caso de tener que usar números flotantes, tenemos los del tipo __float__.\n",
    "\n",
    "Algunos ejemplos de __float__ podrian ser $PI$ = 3.1415... blablabla..\n",
    "\n",
    "En el caso de las cadenas de texto, son un conjunto de varios caracteres.\n",
    "\n",
    "Algo importante y de buena práctica, es colocar un nombre alusivo a la variable que se va a emplear:"
   ]
  },
  {
   "cell_type": "code",
   "execution_count": 4,
   "metadata": {},
   "outputs": [],
   "source": [
    "edad = 20                               # Nos referimos a la edad y no a un color (por ejemplo)\n",
    "neperiano = 2.71                        # Colocamos el nombre del numero neperiano\n",
    "nombre = \"Jorge Miguel Perugorría\"      # Hola!"
   ]
  },
  {
   "cell_type": "markdown",
   "metadata": {},
   "source": []
  }
 ],
 "metadata": {
  "kernelspec": {
   "display_name": "Python 3.10.5 64-bit",
   "language": "python",
   "name": "python3"
  },
  "language_info": {
   "codemirror_mode": {
    "name": "ipython",
    "version": 3
   },
   "file_extension": ".py",
   "mimetype": "text/x-python",
   "name": "python",
   "nbconvert_exporter": "python",
   "pygments_lexer": "ipython3",
   "version": "3.10.5"
  },
  "orig_nbformat": 4,
  "vscode": {
   "interpreter": {
    "hash": "e7370f93d1d0cde622a1f8e1c04877d8463912d04d973331ad4851f04de6915a"
   }
  }
 },
 "nbformat": 4,
 "nbformat_minor": 2
}
