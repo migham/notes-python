{
 "cells": [
  {
   "cell_type": "markdown",
   "metadata": {},
   "source": [
    "# Cadenas de texto\n",
    "Las cadenas de texto son un tipo de dato bastante importante, diferente a los numeros, ya que presentan una serie de métodos propios para su manipulación.\n",
    "\n",
    "## ¿Qué es un string?\n",
    "Un __string__ o cadenas de texto, es una secuencia de caracteres con, o sin, orden lógico. Ya se han usado de manera muy superflua para mostrar mensajes, pero los strings tienen varios usos.\n",
    "\n",
    "Una característica de los strings es que cada carater tiene una posición. Por ejemplo la cadena `\"Hola mundo!\"` se representaria de la siguiente manera:\n",
    "\n",
    "H|o|l|a| |M|u|n|d|o|!\n",
    "---|---|---|---|---|---|---|---|---|---|---\n",
    "0|1|2|3|4|5|6|7|8|9|10\n",
    "\n",
    "\n",
    "Cabe destacar que, como toda secuencia (lista o array), la posición comienza siempre por el 0 (cero) y termina en $n-1$ Y si... el espacio en blanco tambien es un caracter!"
   ]
  },
  {
   "cell_type": "markdown",
   "metadata": {},
   "source": [
    "## Debanado de cadenas\n",
    "El debanado, o slice, permite recuperar una porcion, o su totalidad, de una cadena indicando el nombre de la variable que contiene la cadena y agregando, mediante corchetes [], el rango de caracteres que se desea usar separado por dos punto; de la siguiente manera\n",
    "```python\n",
    "cadena = \"Hola Mundo!\"\n",
    "cadena[inicio:final]\n",
    "```\n",
    "En Python, existe la posibilidad de dejar uno de los dos indicadores en blanco, lo que se interpretará como \"todo lo anterior\" o \"todo lo posterior\". Ejemplos:"
   ]
  },
  {
   "cell_type": "code",
   "execution_count": 18,
   "metadata": {},
   "outputs": [
    {
     "name": "stdout",
     "output_type": "stream",
     "text": [
      "Hola \n",
      "Hol\n",
      " Mundo!\n",
      "Mund\n"
     ]
    }
   ],
   "source": [
    "cadena = \"Hola Mundo!\"\n",
    "print(cadena[0:5])\n",
    "print(cadena[ :3])\n",
    "print(cadena[4: ])\n",
    "print(cadena[5:9])\n"
   ]
  },
  {
   "cell_type": "markdown",
   "metadata": {},
   "source": [
    "De igual manera podemos seleccionar un solo caracter en particular, siempre y cuando esté dentro de la cantidad de caracteres que posee el string:\n"
   ]
  },
  {
   "cell_type": "code",
   "execution_count": 9,
   "metadata": {},
   "outputs": [
    {
     "name": "stdout",
     "output_type": "stream",
     "text": [
      "H\n"
     ]
    }
   ],
   "source": [
    "print(cadena[0])"
   ]
  },
  {
   "cell_type": "markdown",
   "metadata": {},
   "source": [
    "Para saber el largo de una cadena, nos podemos apoyar el la funcion __len()__ que nos devolverá el largo de la misma:"
   ]
  },
  {
   "cell_type": "code",
   "execution_count": 12,
   "metadata": {},
   "outputs": [
    {
     "name": "stdout",
     "output_type": "stream",
     "text": [
      "La cadena ' Hola Mundo! ' posee: 11 caracteres\n"
     ]
    }
   ],
   "source": [
    "print(\"La cadena '\", cadena, \"' posee:\", len(cadena), \"caracteres\")"
   ]
  },
  {
   "cell_type": "markdown",
   "metadata": {},
   "source": [
    "En el caso de indicar un número que exceda la cantidad de caracteres, el interprete nos dará un error indicando la situacion:"
   ]
  },
  {
   "cell_type": "code",
   "execution_count": 6,
   "metadata": {},
   "outputs": [
    {
     "ename": "IndexError",
     "evalue": "string index out of range",
     "output_type": "error",
     "traceback": [
      "\u001b[1;31m---------------------------------------------------------------------------\u001b[0m",
      "\u001b[1;31mIndexError\u001b[0m                                Traceback (most recent call last)",
      "\u001b[1;32mc:\\Users\\Jorge\\Documents\\Python\\strings.ipynb Celda 5\u001b[0m in \u001b[0;36m<cell line: 1>\u001b[1;34m()\u001b[0m\n\u001b[1;32m----> <a href='vscode-notebook-cell:/c%3A/Users/Jorge/Documents/Python/strings.ipynb#ch0000005?line=0'>1</a>\u001b[0m \u001b[39mprint\u001b[39m(cadena[\u001b[39m17\u001b[39;49m])\n",
      "\u001b[1;31mIndexError\u001b[0m: string index out of range"
     ]
    }
   ],
   "source": [
    "print(cadena[17])"
   ]
  },
  {
   "cell_type": "markdown",
   "metadata": {},
   "source": [
    "En Python sucede algo curioso que no existe en otros lenguajes, que es que mediante indices negativos, podemos acceder a los caracteres, pero contando hacia atrás. Así, por ejemplo, mediante el indice -1 podemos acceder al último caracter de la cadena:"
   ]
  },
  {
   "cell_type": "code",
   "execution_count": 15,
   "metadata": {},
   "outputs": [
    {
     "name": "stdout",
     "output_type": "stream",
     "text": [
      "!\n"
     ]
    }
   ],
   "source": [
    "print(cadena[-1])"
   ]
  },
  {
   "cell_type": "markdown",
   "metadata": {},
   "source": [
    "Siempre el último caracter, va a ser representado por el índice -1, el ante último por -2 y asi sucesivamente.\n",
    "\n",
    "Pero.. ¿qué sucede si colocamos un índice negativo mayor al número de caracteres?"
   ]
  },
  {
   "cell_type": "code",
   "execution_count": 16,
   "metadata": {},
   "outputs": [
    {
     "ename": "IndexError",
     "evalue": "string index out of range",
     "output_type": "error",
     "traceback": [
      "\u001b[1;31m---------------------------------------------------------------------------\u001b[0m",
      "\u001b[1;31mIndexError\u001b[0m                                Traceback (most recent call last)",
      "\u001b[1;32mc:\\Users\\Jorge\\Documents\\Python\\strings.ipynb Celda 13\u001b[0m in \u001b[0;36m<cell line: 1>\u001b[1;34m()\u001b[0m\n\u001b[1;32m----> <a href='vscode-notebook-cell:/c%3A/Users/Jorge/Documents/Python/strings.ipynb#ch0000020?line=0'>1</a>\u001b[0m \u001b[39mprint\u001b[39m(cadena[\u001b[39m-\u001b[39;49m\u001b[39m17\u001b[39;49m])\n",
      "\u001b[1;31mIndexError\u001b[0m: string index out of range"
     ]
    }
   ],
   "source": [
    "print(cadena[-17])"
   ]
  },
  {
   "cell_type": "markdown",
   "metadata": {},
   "source": [
    "## Manipulación de cadenas\n",
    "### Concatenación\n",
    "Cuando llevamos a cabo una concatenación, lo que realmente sucede es que estamos uniendo dos cadenas en una. Facilmente podemos realizar esta tarea mediante variables.\n"
   ]
  },
  {
   "cell_type": "code",
   "execution_count": 13,
   "metadata": {},
   "outputs": [
    {
     "name": "stdout",
     "output_type": "stream",
     "text": [
      "Hola a todos!!\n"
     ]
    }
   ],
   "source": [
    "cadena1 = \"Hola \"\n",
    "cadena2 = \"a todos!!\"\n",
    "print(cadena1 + cadena2)"
   ]
  },
  {
   "cell_type": "markdown",
   "metadata": {},
   "source": [
    "Esto nos lleva a que podemos realizar varias operaciones con _strings_\n",
    "### Multiplicación?\n",
    "Vamos a poner por ejemplo lo siguiente:"
   ]
  },
  {
   "cell_type": "code",
   "execution_count": 14,
   "metadata": {},
   "outputs": [
    {
     "name": "stdout",
     "output_type": "stream",
     "text": [
      "Hola Hola Hola Hola \n"
     ]
    }
   ],
   "source": [
    "saludos = cadena1 * 4\n",
    "print(saludos)"
   ]
  },
  {
   "cell_type": "markdown",
   "metadata": {},
   "source": [
    "## Métodos de cadenas\n",
    "Los _strings_ poseen varios métodos para la manipulación de las mismas. Un ejemplo de ello es el método _upper()_ que lo que hará es colocar a todos los caracteres de nuestra cadena en mayúsculas."
   ]
  },
  {
   "cell_type": "markdown",
   "metadata": {},
   "source": []
  },
  {
   "cell_type": "code",
   "execution_count": 20,
   "metadata": {},
   "outputs": [
    {
     "data": {
      "text/plain": [
       "'HOLA MUNDO!'"
      ]
     },
     "execution_count": 20,
     "metadata": {},
     "output_type": "execute_result"
    }
   ],
   "source": [
    "cadena.upper()"
   ]
  },
  {
   "cell_type": "markdown",
   "metadata": {},
   "source": [
    "Del mismo modo, podemos colocar todos los caracteres en minúsculas mediante el método _lower()_."
   ]
  },
  {
   "cell_type": "code",
   "execution_count": 21,
   "metadata": {},
   "outputs": [
    {
     "data": {
      "text/plain": [
       "'hola mundo!'"
      ]
     },
     "execution_count": 21,
     "metadata": {},
     "output_type": "execute_result"
    }
   ],
   "source": [
    "cadena.lower()"
   ]
  },
  {
   "cell_type": "markdown",
   "metadata": {},
   "source": [
    "De igual manera, podemos utilizar el metodo _capitalize()_ para colocar la primer letra en mayúsculas"
   ]
  },
  {
   "cell_type": "code",
   "execution_count": 22,
   "metadata": {},
   "outputs": [
    {
     "data": {
      "text/plain": [
       "'Hola mundo!'"
      ]
     },
     "execution_count": 22,
     "metadata": {},
     "output_type": "execute_result"
    }
   ],
   "source": [
    "cadena.capitalize()"
   ]
  },
  {
   "cell_type": "markdown",
   "metadata": {},
   "source": [
    "El método _title()_ colocará la primer letra de cada palabra en mayúscula:"
   ]
  },
  {
   "cell_type": "code",
   "execution_count": 24,
   "metadata": {},
   "outputs": [
    {
     "data": {
      "text/plain": [
       "'Esta Es Una Oracion Un Poco Mas Larga Para Ejemplificar Metodos De Strings En Python'"
      ]
     },
     "execution_count": 24,
     "metadata": {},
     "output_type": "execute_result"
    }
   ],
   "source": [
    "cadena = \"esta es una oracion un poco mas larga para ejemplificar metodos de strings en python\"\n",
    "cadena.title()"
   ]
  },
  {
   "cell_type": "markdown",
   "metadata": {},
   "source": [
    "Un método curioso es _swapcase()_ y lo que hará es cambiar mayúsculas por minúsculas y visceversa"
   ]
  },
  {
   "cell_type": "code",
   "execution_count": 27,
   "metadata": {},
   "outputs": [
    {
     "name": "stdout",
     "output_type": "stream",
     "text": [
      "EstA es UnA foRmA uN poCo ExtRaÑa dE eScrIbir UN mEnsAJE\n",
      "eSTa ES uNa FOrMa Un POcO eXTrAñA De EsCRiBIR un MeNSaje\n"
     ]
    }
   ],
   "source": [
    "cadena = \"EstA es UnA foRmA uN poCo ExtRaÑa dE eScrIbir UN mEnsAJE\"\n",
    "print(cadena)\n",
    "print(cadena.swapcase())"
   ]
  },
  {
   "cell_type": "markdown",
   "metadata": {},
   "source": [
    "Un método bastante útil es el de _replace()_ que lo que hará será cambiar una sección de una cadena por otra.. muy útil a la hora de cambiar las comas(,) por puntos (.) en las notaciones sajonas."
   ]
  },
  {
   "cell_type": "code",
   "execution_count": 30,
   "metadata": {},
   "outputs": [
    {
     "name": "stdout",
     "output_type": "stream",
     "text": [
      "Hasta luego Lucas!\n"
     ]
    }
   ],
   "source": [
    "cadena = \"Hasta luego amigo!\"\n",
    "amigo = \"Lucas\"\n",
    "\n",
    "print(cadena.replace(\"amigo\", amigo))"
   ]
  }
 ],
 "metadata": {
  "kernelspec": {
   "display_name": "Python 3.10.5 64-bit",
   "language": "python",
   "name": "python3"
  },
  "language_info": {
   "codemirror_mode": {
    "name": "ipython",
    "version": 3
   },
   "file_extension": ".py",
   "mimetype": "text/x-python",
   "name": "python",
   "nbconvert_exporter": "python",
   "pygments_lexer": "ipython3",
   "version": "3.10.5"
  },
  "orig_nbformat": 4,
  "vscode": {
   "interpreter": {
    "hash": "04c99251120b9783bb57db04925b02d6d9a65330f6ca271b364357389b908c1b"
   }
  }
 },
 "nbformat": 4,
 "nbformat_minor": 2
}
